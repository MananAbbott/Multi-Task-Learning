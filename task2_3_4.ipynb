{
 "cells": [
  {
   "cell_type": "markdown",
   "id": "a18f42b2",
   "metadata": {},
   "source": [
    "# Import relevant files"
   ]
  },
  {
   "cell_type": "code",
   "execution_count": 1,
   "id": "6d95e8f6",
   "metadata": {},
   "outputs": [
    {
     "name": "stderr",
     "output_type": "stream",
     "text": [
      "/Users/manan/Desktop/Leetcode/Fetch Assesment/venv/lib/python3.8/site-packages/tqdm/auto.py:21: TqdmWarning: IProgress not found. Please update jupyter and ipywidgets. See https://ipywidgets.readthedocs.io/en/stable/user_install.html\n",
      "  from .autonotebook import tqdm as notebook_tqdm\n"
     ]
    }
   ],
   "source": [
    "from src.mtl import MultiTaskModel\n",
    "import torch\n",
    "import torch.nn as nn\n",
    "import torch.optim as optim\n",
    "from torch.optim.lr_scheduler import StepLR\n",
    "from torch.utils.data import Dataset, DataLoader\n",
    "import numpy as np\n",
    "import matplotlib.pyplot as plt\n",
    "import pandas as pd"
   ]
  },
  {
   "cell_type": "markdown",
   "id": "1c75236f",
   "metadata": {},
   "source": [
    "# Instantiate the Model"
   ]
  },
  {
   "cell_type": "code",
   "execution_count": 2,
   "id": "29572bc2",
   "metadata": {},
   "outputs": [
    {
     "name": "stdout",
     "output_type": "stream",
     "text": [
      "Model loaded from models/backbone\n"
     ]
    },
    {
     "name": "stderr",
     "output_type": "stream",
     "text": [
      "/Users/manan/Desktop/Leetcode/Fetch Assesment/src/embedding_model.py:78: FutureWarning: You are using `torch.load` with `weights_only=False` (the current default value), which uses the default pickle module implicitly. It is possible to construct malicious pickle data which will execute arbitrary code during unpickling (See https://github.com/pytorch/pytorch/blob/main/SECURITY.md#untrusted-models for more details). In a future release, the default value for `weights_only` will be flipped to `True`. This limits the functions that could be executed during unpickling. Arbitrary objects will no longer be allowed to be loaded via this mode unless they are explicitly allowlisted by the user via `torch.serialization.add_safe_globals`. We recommend you start setting `weights_only=True` for any use case where you don't have full control of the loaded file. Please open an issue on GitHub for any issues related to this experimental feature.\n",
      "  self.projection.load_state_dict(torch.load(f\"{path}/projection.pth\"))\n"
     ]
    }
   ],
   "source": [
    "model = MultiTaskModel(backbone_pth='models/backbone')"
   ]
  },
  {
   "cell_type": "markdown",
   "id": "7b7ed8e9",
   "metadata": {},
   "source": [
    "#### Task A is Sentence classification into 4 categories\n",
    "#### Task B is Sentiment Analysis with 3 categories (Positve, Negative or Neutral)"
   ]
  },
  {
   "cell_type": "markdown",
   "id": "f6723e40",
   "metadata": {},
   "source": [
    "#### Assuming that input data (sentences) have two labels: one for classification and one for sentiment"
   ]
  },
  {
   "cell_type": "markdown",
   "id": "c3bd37a7",
   "metadata": {},
   "source": [
    "## Sample Synthetic Data\n"
   ]
  },
  {
   "cell_type": "code",
   "execution_count": null,
   "id": "72028bb0",
   "metadata": {},
   "outputs": [
    {
     "name": "stdout",
     "output_type": "stream",
     "text": [
      "('World Cup champions updates its policy framework.', 'Star quarterback encounters unexpected setbacks.', 'A leading AI startup delays project rollout.', 'A leading AI startup announces its quarterly earnings.', 'Open-source community faces scrutiny over recent decisions.', 'World Cup champions releases its annual report.', 'Local baseball club sees decline in public support.', 'Cybersecurity firm celebrates major victory.', 'Software company achieves major breakthrough.', 'Famous actor announces record-breaking success.', 'Film festival receives widespread acclaim.', 'Olympic sprinter updates its policy framework.', 'The national football team sees decline in public support.', 'Star quarterback receives widespread acclaim.', 'Open-source community sees decline in public support.', 'The Supreme Court encounters unexpected setbacks.')\n",
      "tensor([1, 1, 2, 2, 2, 1, 1, 2, 2, 3, 3, 1, 1, 1, 2, 0]) tensor([1, 2, 2, 1, 2, 1, 2, 0, 0, 0, 0, 1, 2, 0, 2, 2])\n"
     ]
    }
   ],
   "source": [
    "# Synthetic data load from a CSV file for demonstration. \n",
    "# NOTE: Data was generated using generative AI.\n",
    "\n",
    "data = pd.read_csv('data/synthetic_data.csv')\n",
    "\n",
    "class NewsSentimentDataset(Dataset):\n",
    "    def __init__(self, df: pd.DataFrame):\n",
    "        self.df = df.reset_index(drop=True)\n",
    "\n",
    "    def __len__(self):\n",
    "        return len(self.df)\n",
    "\n",
    "    def __getitem__(self, idx):\n",
    "        row = self.df.iloc[idx]\n",
    "        return row[\"sentence\"], row[\"labelA\"], row[\"labelB\"]\n",
    "\n",
    "\n",
    "train_dataloader = DataLoader(NewsSentimentDataset(data[:100]), batch_size=16, shuffle=True)\n",
    "val_dataloader   = DataLoader(NewsSentimentDataset(data[100:]), batch_size=16, shuffle=False)\n",
    "\n",
    "for sentences, labelsA, labelsB in train_dataloader:\n",
    "    print(sentences)\n",
    "    print(labelsA, labelsB)\n",
    "    break"
   ]
  },
  {
   "cell_type": "markdown",
   "id": "06a413d4",
   "metadata": {},
   "source": [
    "# Training Loop (Task 4)"
   ]
  },
  {
   "cell_type": "code",
   "execution_count": 4,
   "id": "ecb66e45",
   "metadata": {},
   "outputs": [
    {
     "name": "stdout",
     "output_type": "stream",
     "text": [
      "Validation Accuracy: A: 0.2500, B: 0.2500\n",
      "Validation Recall: A: 0.0000, B: 0.0000\n",
      "Validation Precision: A: 0.0000, B: 0.0000\n"
     ]
    }
   ],
   "source": [
    "# BASELINE METRICS: Accuracy, Recall, Precision\n",
    "\n",
    "\n",
    "accA, accB, recallA, recallB, precisionA, precisionB = model.metrics(val_dataloader)\n",
    "print(f\"Validation Accuracy: A: {accA:.4f}, B: {accB:.4f}\")\n",
    "print(f\"Validation Recall: A: {recallA:.4f}, B: {recallB:.4f}\")\n",
    "print(f\"Validation Precision: A: {precisionA:.4f}, B: {precisionB:.4f}\")"
   ]
  },
  {
   "cell_type": "markdown",
   "id": "ae4df905",
   "metadata": {},
   "source": [
    "## Training loop - Version 1 (Three phase training)"
   ]
  },
  {
   "cell_type": "code",
   "execution_count": null,
   "id": "3ca8044a",
   "metadata": {},
   "outputs": [
    {
     "name": "stdout",
     "output_type": "stream",
     "text": [
      "All backbone layers frozen\n",
      "Task A head unfrozen\n",
      "Task B head unfrozen\n",
      "Model saved to best_model\n",
      "Model saved to best_model\n",
      "Epoch 1/10 - train_loss: 2.4745  val_loss: 2.5049  A_acc: 25.00%  B_acc: 25.00%\n",
      "Model saved to best_model\n",
      "Model saved to best_model\n",
      "Epoch 2/10 - train_loss: 2.4359  val_loss: 2.4728  A_acc: 25.00%  B_acc: 25.00%\n",
      "Model saved to best_model\n",
      "Model saved to best_model\n",
      "Epoch 3/10 - train_loss: 2.3556  val_loss: 2.4202  A_acc: 25.00%  B_acc: 40.00%\n",
      "Model saved to best_model\n",
      "Model saved to best_model\n",
      "Epoch 4/10 - train_loss: 2.2795  val_loss: 2.3913  A_acc: 35.00%  B_acc: 55.00%\n",
      "Model saved to best_model\n",
      "Model saved to best_model\n",
      "Epoch 5/10 - train_loss: 2.1870  val_loss: 2.3502  A_acc: 55.00%  B_acc: 55.00%\n",
      "Model saved to best_model\n",
      "Model saved to best_model\n",
      "Epoch 6/10 - train_loss: 2.0976  val_loss: 2.3152  A_acc: 55.00%  B_acc: 50.00%\n",
      "Model saved to best_model\n",
      "Model saved to best_model\n",
      "Epoch 7/10 - train_loss: 2.0299  val_loss: 2.2819  A_acc: 55.00%  B_acc: 50.00%\n",
      "Model saved to best_model\n",
      "Model saved to best_model\n",
      "Epoch 8/10 - train_loss: 1.9504  val_loss: 2.2518  A_acc: 60.00%  B_acc: 50.00%\n",
      "Model saved to best_model\n",
      "Model saved to best_model\n",
      "Epoch 9/10 - train_loss: 1.8769  val_loss: 2.2252  A_acc: 60.00%  B_acc: 50.00%\n",
      "Model saved to best_model\n",
      "Model saved to best_model\n",
      "Epoch 10/10 - train_loss: 1.8255  val_loss: 2.2087  A_acc: 65.00%  B_acc: 55.00%\n",
      "All backbone layers frozen\n",
      "Last 2 backbone layers unfrozen\n",
      "Task A head unfrozen\n",
      "Task B head unfrozen\n",
      "Model saved to best_model\n",
      "Model saved to best_model\n",
      "Epoch 1/10 - train_loss: 1.7917  val_loss: 2.1930  A_acc: 65.00%  B_acc: 50.00%\n",
      "Model saved to best_model\n",
      "Model saved to best_model\n",
      "Epoch 2/10 - train_loss: 1.7816  val_loss: 2.1902  A_acc: 70.00%  B_acc: 55.00%\n",
      "Model saved to best_model\n",
      "Model saved to best_model\n",
      "Epoch 3/10 - train_loss: 1.7188  val_loss: 2.1856  A_acc: 70.00%  B_acc: 55.00%\n",
      "Model saved to best_model\n",
      "Model saved to best_model\n",
      "Epoch 4/10 - train_loss: 1.6732  val_loss: 2.1814  A_acc: 70.00%  B_acc: 50.00%\n",
      "Model saved to best_model\n",
      "Model saved to best_model\n",
      "Epoch 5/10 - train_loss: 1.6500  val_loss: 2.1763  A_acc: 70.00%  B_acc: 50.00%\n",
      "Model saved to best_model\n",
      "Model saved to best_model\n",
      "Epoch 6/10 - train_loss: 1.6541  val_loss: 2.1662  A_acc: 70.00%  B_acc: 50.00%\n",
      "Model saved to best_model\n",
      "Model saved to best_model\n",
      "Epoch 7/10 - train_loss: 1.6774  val_loss: 2.1633  A_acc: 70.00%  B_acc: 55.00%\n",
      "Model saved to best_model\n",
      "Model saved to best_model\n",
      "Epoch 8/10 - train_loss: 1.6666  val_loss: 2.1631  A_acc: 70.00%  B_acc: 50.00%\n",
      "Model saved to best_model\n",
      "Model saved to best_model\n",
      "Epoch 9/10 - train_loss: 1.6392  val_loss: 2.1627  A_acc: 70.00%  B_acc: 50.00%\n",
      "Model saved to best_model\n",
      "Model saved to best_model\n",
      "Epoch 10/10 - train_loss: 1.6265  val_loss: 2.1604  A_acc: 70.00%  B_acc: 50.00%\n",
      "All backbone layers unfrozen\n",
      "Task A head unfrozen\n",
      "Task B head unfrozen\n",
      "Model saved to best_model\n",
      "Model saved to best_model\n",
      "Epoch 1/5 - train_loss: 1.6158  val_loss: 2.1593  A_acc: 70.00%  B_acc: 50.00%\n",
      "Model saved to best_model\n",
      "Model saved to best_model\n",
      "Epoch 2/5 - train_loss: 1.6215  val_loss: 2.1569  A_acc: 70.00%  B_acc: 55.00%\n",
      "Epoch 3/5 - train_loss: 1.6320  val_loss: 2.1573  A_acc: 70.00%  B_acc: 55.00%\n",
      "Model saved to best_model\n",
      "Model saved to best_model\n",
      "Epoch 4/5 - train_loss: 1.6186  val_loss: 2.1569  A_acc: 70.00%  B_acc: 55.00%\n",
      "Model saved to best_model\n",
      "Model saved to best_model\n",
      "Epoch 5/5 - train_loss: 1.6033  val_loss: 2.1564  A_acc: 70.00%  B_acc: 55.00%\n"
     ]
    },
    {
     "data": {
      "image/png": "[encoded data removed]",
      "text/plain": [
       "<Figure size 1000x500 with 1 Axes>"
      ]
     },
     "metadata": {},
     "output_type": "display_data"
    }
   ],
   "source": [
    "# Assuming that train_dataloarder and val_dataloader are defined\n",
    "\n",
    "# Losses\n",
    "lossA = nn.CrossEntropyLoss()\n",
    "lossB = nn.CrossEntropyLoss()\n",
    "\n",
    "# Phase 1: Epochs 1–10 (backbone frozen, train projection + both heads, lr: 1e-3)\n",
    "model.freeze_backbone()            # lock all Transformer layers\n",
    "model.unfreeze_projection()        #  unfreeze projection layer\n",
    "model.unfreeze_taskA_head()        #  unfreeze Task A head\n",
    "model.unfreeze_taskB_head()        #  unfreeze Task B head\n",
    "\n",
    "opt1 = optim.AdamW([\n",
    "    {'params': model.backbone.projection.parameters(), 'lr': 1e-3},\n",
    "    {'params': model.taskA_head.parameters(),          'lr': 1e-3},\n",
    "    {'params': model.taskB_head.parameters(),          'lr': 1e-3},\n",
    "])\n",
    "sched1 = StepLR(opt1, step_size=3, gamma=0.5)\n",
    "\n",
    "history1 = model.fit(\n",
    "    train_dataloader,\n",
    "    val_dataloader,\n",
    "    opt1,\n",
    "    lossA,\n",
    "    lossB,\n",
    "    epochs=10,\n",
    "    scheduler=sched1\n",
    ")\n",
    "\n",
    "# Phase 2: Epochs 11–20 (unfreeze top 2 Transformer layers, lr backbone=1e-5, heads+proj=1e-4)\n",
    "model.freeze_backbone()            # re‐freeze all backbone layers\n",
    "model.unfreeze_backbone(num=2)     # unfreeze just the last 2 backbone layers\n",
    "model.unfreeze_projection()        # projection unfrozen\n",
    "model.unfreeze_taskA_head()        # headA unfrozen\n",
    "model.unfreeze_taskB_head()        # headB unfrozen\n",
    "\n",
    "# collect trainable backbone params\n",
    "backbone_params = [p for p in model.backbone.model.parameters() if p.requires_grad]\n",
    "head_and_proj = (\n",
    "    list(model.backbone.projection.parameters()) +\n",
    "    list(model.taskA_head.parameters()) +\n",
    "    list(model.taskB_head.parameters())\n",
    ")\n",
    "\n",
    "opt2 = optim.AdamW([\n",
    "    {'params': backbone_params, 'lr': 1e-5},\n",
    "    {'params': head_and_proj,    'lr': 1e-4},\n",
    "])\n",
    "sched2 = StepLR(opt2, step_size=3, gamma=0.5)\n",
    "\n",
    "history2 = model.fit(\n",
    "    train_dataloader,\n",
    "    val_dataloader,\n",
    "    opt2,\n",
    "    lossA,\n",
    "    lossB,\n",
    "    epochs=10,\n",
    "    scheduler=sched2\n",
    ")\n",
    "\n",
    "# hase 3: Epochs 21-25 (gradual unfreeze:fully unfreeze and fine‐tune with lower LRs)\n",
    "model.unfreeze_backbone()          # all layers now trainable\n",
    "model.unfreeze_projection()\n",
    "model.unfreeze_taskA_head()\n",
    "model.unfreeze_taskB_head()\n",
    "\n",
    "all_backbone = list(model.backbone.model.parameters())\n",
    "all_proj_and_heads = (\n",
    "    list(model.backbone.projection.parameters()) +\n",
    "    list(model.taskA_head.parameters()) +\n",
    "    list(model.taskB_head.parameters())\n",
    ")\n",
    "\n",
    "opt3 = optim.AdamW([\n",
    "    {'params': all_backbone,       'lr': 1e-6},\n",
    "    {'params': all_proj_and_heads, 'lr': 1e-5},\n",
    "])\n",
    "sched3 = StepLR(opt3, step_size=3, gamma=0.5)\n",
    "\n",
    "history3 = model.fit(\n",
    "    train_dataloader,\n",
    "    val_dataloader,\n",
    "    opt3,\n",
    "    lossA,\n",
    "    lossB,\n",
    "    epochs=5,\n",
    "    scheduler=sched3\n",
    ")\n",
    "# stitch together the losses from each phase\n",
    "train_losses = history1['train_loss'] + history2['train_loss'] + history3['train_loss']\n",
    "val_losses   = history1['val_loss']   + history2['val_loss']   + history3['val_loss']\n",
    "\n",
    "total_epochs = len(train_losses)\n",
    "epochs = list(range(1, total_epochs + 1))\n",
    "\n",
    "# compute phase boundaries\n",
    "p1_end = len(history1['train_loss'])\n",
    "p2_end = p1_end + len(history2['train_loss'])\n",
    "\n",
    "plt.figure(figsize=(10, 5))\n",
    "plt.plot(epochs, train_losses, label='Train Loss')\n",
    "plt.plot(epochs, val_losses,   label='Val Loss')\n",
    "\n",
    "#draw and label the phase splits\n",
    "for idx, bound in enumerate([p1_end, p2_end], start=1):\n",
    "    plt.axvline(bound, linestyle='--')\n",
    "    plt.text(bound + 0.2, max(train_losses), f'Phase {idx+1} start', rotation=90, va='top')\n",
    "\n",
    "plt.title('Combined Loss Curve Across All Phases')\n",
    "plt.xlabel('Epoch')\n",
    "plt.ylabel('Loss')\n",
    "plt.legend()\n",
    "plt.tight_layout()\n",
    "plt.show()"
   ]
  },
  {
   "cell_type": "code",
   "execution_count": 7,
   "id": "c68f98f1",
   "metadata": {},
   "outputs": [
    {
     "name": "stdout",
     "output_type": "stream",
     "text": [
      "Final Validation Accuracy: A: 0.7000, B: 0.5500\n",
      "Final Validation Recall: A: 1.0000, B: 0.2500\n",
      "Final Validation Precision: A: 1.0000, B: 1.0000\n"
     ]
    }
   ],
   "source": [
    "# FINAL METRICS\n",
    "f_accA, f_accB, f_recallA, f_recallB, f_precisionA, f_precisionB = model.metrics(val_dataloader)\n",
    "print(f\"Final Validation Accuracy: A: {f_accA:.4f}, B: {f_accB:.4f}\")\n",
    "print(f\"Final Validation Recall: A: {f_recallA:.4f}, B: {f_recallB:.4f}\")\n",
    "print(f\"Final Validation Precision: A: {f_precisionA:.4f}, B: {f_precisionB:.4f}\")"
   ]
  },
  {
   "cell_type": "markdown",
   "id": "db57604e",
   "metadata": {},
   "source": [
    "## Alternate version - Training All Parameters together"
   ]
  },
  {
   "cell_type": "code",
   "execution_count": null,
   "id": "b8486cc9",
   "metadata": {},
   "outputs": [],
   "source": [
    "# UNCOMMENT THIS BLOCK TO TRAIN THE MODEL USING ALTERNATE STRATEGY\n",
    "\n",
    "# # 1) Make sure everything is unfrozen so gradients are computed\n",
    "# model.unfreeze_backbone()\n",
    "# model.unfreeze_projection()\n",
    "# model.unfreeze_taskA_head()\n",
    "# model.unfreeze_taskB_head()\n",
    "\n",
    "# # 2) Losses\n",
    "# class_lossA = nn.CrossEntropyLoss()\n",
    "# sentiment_lossB = nn.CrossEntropyLoss()\n",
    "\n",
    "# # 3) Optimizer with parameter groups\n",
    "# model_optimizer = optim.AdamW([\n",
    "#     {'params': model.backbone.model.parameters(),     'lr': 1e-5}, # slower backbone LR to ensure backbone is not overfitted\n",
    "#     {'params': model.backbone.projection.parameters(), 'lr': 1e-4},\n",
    "#     {'params': model.taskA_head.parameters(),          'lr': 1e-4},\n",
    "#     {'params': model.taskB_head.parameters(),          'lr': 1e-4},\n",
    "# ])\n",
    "\n",
    "# # 4) Scheduler\n",
    "# scheduler = StepLR(model_optimizer, step_size=2, gamma=0.5)\n",
    "\n",
    "# # 5) Train/val loop via your fit helper\n",
    "# history = model.fit(train_loader=train_dataloader,\n",
    "#                     val_loader=val_dataloader,\n",
    "#                     optimizer=model_optimizer,\n",
    "#                     lossA=class_lossA,\n",
    "#                     lossB=sentiment_lossB,\n",
    "#                     epochs=20,\n",
    "#                     scheduler=scheduler\n",
    "#                     )\n",
    "\n",
    "# # 6) Plotting\n",
    "# plt.plot(history['train_loss'], label='Train Loss')\n",
    "# plt.plot(history['val_loss'], label='Validation Loss')\n",
    "# plt.title('Losses')\n",
    "# plt.xlabel('Epochs')\n",
    "# plt.ylabel('Loss')\n",
    "# plt.legend()\n",
    "# plt.show()"
   ]
  }
 ],
 "metadata": {
  "kernelspec": {
   "display_name": "venv",
   "language": "python",
   "name": "python3"
  },
  "language_info": {
   "codemirror_mode": {
    "name": "ipython",
    "version": 3
   },
   "file_extension": ".py",
   "mimetype": "text/x-python",
   "name": "python",
   "nbconvert_exporter": "python",
   "pygments_lexer": "ipython3",
   "version": "3.8.15"
  }
 },
 "nbformat": 4,
 "nbformat_minor": 5
}
