{
 "cells": [
  {
   "cell_type": "markdown",
   "id": "a18f42b2",
   "metadata": {},
   "source": [
    "# Import relevant files"
   ]
  },
  {
   "cell_type": "code",
   "execution_count": 1,
   "id": "6d95e8f6",
   "metadata": {},
   "outputs": [],
   "source": [
    "from src.mtl import MultiTaskModel\n",
    "import torch\n",
    "import torch.nn as nn\n",
    "import torch.optim as optim\n",
    "from torch.optim.lr_scheduler import StepLR\n",
    "from torch.utils.data import Dataset, DataLoader\n",
    "import numpy as np\n",
    "import matplotlib.pyplot as plt\n",
    "import pandas as pd"
   ]
  },
  {
   "cell_type": "markdown",
   "id": "1c75236f",
   "metadata": {},
   "source": [
    "# Instantiate the Model"
   ]
  },
  {
   "cell_type": "code",
   "execution_count": 2,
   "id": "29572bc2",
   "metadata": {},
   "outputs": [
    {
     "name": "stdout",
     "output_type": "stream",
     "text": [
      "Model loaded from models/backbone\n"
     ]
    },
    {
     "name": "stderr",
     "output_type": "stream",
     "text": [
      "/Users/manan/Desktop/Leetcode/Fetch Assesment/src/embedding_model.py:78: FutureWarning: You are using `torch.load` with `weights_only=False` (the current default value), which uses the default pickle module implicitly. It is possible to construct malicious pickle data which will execute arbitrary code during unpickling (See https://github.com/pytorch/pytorch/blob/main/SECURITY.md#untrusted-models for more details). In a future release, the default value for `weights_only` will be flipped to `True`. This limits the functions that could be executed during unpickling. Arbitrary objects will no longer be allowed to be loaded via this mode unless they are explicitly allowlisted by the user via `torch.serialization.add_safe_globals`. We recommend you start setting `weights_only=True` for any use case where you don't have full control of the loaded file. Please open an issue on GitHub for any issues related to this experimental feature.\n",
      "  self.projection.load_state_dict(torch.load(f\"{path}/projection.pth\", map_location=self.device))\n"
     ]
    }
   ],
   "source": [
    "model = MultiTaskModel(backbone_pth='models/backbone')"
   ]
  },
  {
   "cell_type": "markdown",
   "id": "7b7ed8e9",
   "metadata": {},
   "source": [
    "#### Task A is Sentence classification into 4 categories\n",
    "#### Task B is Sentiment Analysis with 3 categories (Positve, Negative or Neutral)"
   ]
  },
  {
   "cell_type": "markdown",
   "id": "f6723e40",
   "metadata": {},
   "source": [
    "#### Assuming that input data (sentences) have two labels: one for classification and one for sentiment"
   ]
  },
  {
   "cell_type": "markdown",
   "id": "c3bd37a7",
   "metadata": {},
   "source": [
    "## Sample Synthetic Data\n"
   ]
  },
  {
   "cell_type": "code",
   "execution_count": 3,
   "id": "72028bb0",
   "metadata": {},
   "outputs": [
    {
     "name": "stdout",
     "output_type": "stream",
     "text": [
      "('Art exhibition launches innovative program.', 'City Council encounters unexpected setbacks.', 'Cybersecurity firm releases its annual report.', 'Award-winning director launches innovative program.', 'Open-source community releases its annual report.', 'Broadway show is criticized for lack of transparency.', 'Tech giant launches innovative program.', 'The Senate delays project rollout.', 'The Senate partners with international organizations.', 'Tennis Grand Slam winner is criticized for lack of transparency.', 'Film festival receives widespread acclaim.', 'Pop music artist celebrates major victory.', 'Open-source community faces scrutiny over recent decisions.', 'The Ministry of Finance encounters unexpected setbacks.', 'Blockbuster movie receives widespread acclaim.', 'Election Commission updates its policy framework.')\n",
      "tensor([3, 0, 2, 3, 2, 3, 2, 0, 0, 1, 3, 3, 2, 0, 3, 0]) tensor([0, 2, 1, 0, 1, 2, 0, 2, 0, 2, 0, 0, 2, 2, 0, 1])\n"
     ]
    }
   ],
   "source": [
    "# Synthetic data load from a CSV file for demonstration. \n",
    "# NOTE: Data was generated using generative AI.\n",
    "\n",
    "data = pd.read_csv('data/synthetic_data.csv')\n",
    "\n",
    "class NewsSentimentDataset(Dataset):\n",
    "    def __init__(self, df: pd.DataFrame):\n",
    "        self.df = df.reset_index(drop=True)\n",
    "\n",
    "    def __len__(self):\n",
    "        return len(self.df)\n",
    "\n",
    "    def __getitem__(self, idx):\n",
    "        row = self.df.iloc[idx]\n",
    "        return row[\"sentence\"], row[\"labelA\"], row[\"labelB\"]\n",
    "\n",
    "\n",
    "train_dataloader = DataLoader(NewsSentimentDataset(data[:90]), batch_size=16, shuffle=True)\n",
    "val_dataloader   = DataLoader(NewsSentimentDataset(data[90:]), batch_size=16, shuffle=False)\n",
    "\n",
    "for sentences, labelsA, labelsB in train_dataloader:\n",
    "    print(sentences)\n",
    "    print(labelsA, labelsB)\n",
    "    break"
   ]
  },
  {
   "cell_type": "markdown",
   "id": "06a413d4",
   "metadata": {},
   "source": [
    "# Training Loop (Task 4)"
   ]
  },
  {
   "cell_type": "code",
   "execution_count": 4,
   "id": "ecb66e45",
   "metadata": {},
   "outputs": [
    {
     "name": "stdout",
     "output_type": "stream",
     "text": [
      "Validation Accuracy: A: 0.2000, B: 0.3000\n",
      "Validation Recall: A: 0.0000, B: 0.0000\n",
      "Validation Precision: A: 0.0000, B: 0.0000\n"
     ]
    }
   ],
   "source": [
    "# BASELINE METRICS: Accuracy, Recall, Precision\n",
    "\n",
    "accA, accB, recallA, recallB, precisionA, precisionB = model.metrics(val_dataloader)\n",
    "print(f\"Validation Accuracy: A: {accA:.4f}, B: {accB:.4f}\")\n",
    "print(f\"Validation Recall: A: {recallA:.4f}, B: {recallB:.4f}\")\n",
    "print(f\"Validation Precision: A: {precisionA:.4f}, B: {precisionB:.4f}\")"
   ]
  },
  {
   "cell_type": "markdown",
   "id": "ae4df905",
   "metadata": {},
   "source": [
    "## Training loop - Version 1 (Three phase training)"
   ]
  },
  {
   "cell_type": "code",
   "execution_count": 5,
   "id": "3ca8044a",
   "metadata": {},
   "outputs": [
    {
     "name": "stdout",
     "output_type": "stream",
     "text": [
      "All backbone layers frozen\n",
      "Task A head unfrozen\n",
      "Task B head unfrozen\n",
      "Model saved to best_model\n",
      "Model saved to best_model\n",
      "Epoch 1/10 - train_loss: 2.4769  val_loss: 2.4849  A_acc: 20.00%  B_acc: 30.00%\n",
      "Model saved to best_model\n",
      "Model saved to best_model\n",
      "Epoch 2/10 - train_loss: 2.4361  val_loss: 2.4534  A_acc: 20.00%  B_acc: 30.00%\n",
      "Model saved to best_model\n",
      "Model saved to best_model\n",
      "Epoch 3/10 - train_loss: 2.3825  val_loss: 2.4009  A_acc: 43.33%  B_acc: 30.00%\n",
      "Model saved to best_model\n",
      "Model saved to best_model\n",
      "Epoch 4/10 - train_loss: 2.3200  val_loss: 2.3658  A_acc: 50.00%  B_acc: 30.00%\n",
      "Model saved to best_model\n",
      "Model saved to best_model\n",
      "Epoch 5/10 - train_loss: 2.2564  val_loss: 2.3230  A_acc: 50.00%  B_acc: 30.00%\n",
      "Model saved to best_model\n",
      "Model saved to best_model\n",
      "Epoch 6/10 - train_loss: 2.1843  val_loss: 2.2705  A_acc: 53.33%  B_acc: 30.00%\n",
      "Model saved to best_model\n",
      "Model saved to best_model\n",
      "Epoch 7/10 - train_loss: 2.1111  val_loss: 2.2342  A_acc: 60.00%  B_acc: 43.33%\n",
      "Model saved to best_model\n",
      "Model saved to best_model\n",
      "Epoch 8/10 - train_loss: 2.0579  val_loss: 2.1957  A_acc: 66.67%  B_acc: 46.67%\n",
      "Model saved to best_model\n",
      "Model saved to best_model\n",
      "Epoch 9/10 - train_loss: 2.0189  val_loss: 2.1590  A_acc: 66.67%  B_acc: 50.00%\n",
      "Model saved to best_model\n",
      "Model saved to best_model\n",
      "Epoch 10/10 - train_loss: 1.9552  val_loss: 2.1381  A_acc: 70.00%  B_acc: 53.33%\n",
      "All backbone layers frozen\n",
      "Last 2 backbone layers unfrozen\n",
      "Task A head unfrozen\n",
      "Task B head unfrozen\n",
      "Model saved to best_model\n",
      "Model saved to best_model\n",
      "Epoch 1/10 - train_loss: 1.9469  val_loss: 2.1249  A_acc: 70.00%  B_acc: 50.00%\n",
      "Model saved to best_model\n",
      "Model saved to best_model\n",
      "Epoch 2/10 - train_loss: 1.8984  val_loss: 2.1107  A_acc: 73.33%  B_acc: 56.67%\n",
      "Model saved to best_model\n",
      "Model saved to best_model\n",
      "Epoch 3/10 - train_loss: 1.8813  val_loss: 2.0977  A_acc: 76.67%  B_acc: 60.00%\n",
      "Model saved to best_model\n",
      "Model saved to best_model\n",
      "Epoch 4/10 - train_loss: 1.8834  val_loss: 2.0879  A_acc: 76.67%  B_acc: 63.33%\n",
      "Model saved to best_model\n",
      "Model saved to best_model\n",
      "Epoch 5/10 - train_loss: 1.8484  val_loss: 2.0802  A_acc: 76.67%  B_acc: 63.33%\n",
      "Model saved to best_model\n",
      "Model saved to best_model\n",
      "Epoch 6/10 - train_loss: 1.8531  val_loss: 2.0734  A_acc: 83.33%  B_acc: 63.33%\n",
      "Model saved to best_model\n",
      "Model saved to best_model\n",
      "Epoch 7/10 - train_loss: 1.8458  val_loss: 2.0697  A_acc: 83.33%  B_acc: 63.33%\n",
      "Model saved to best_model\n",
      "Model saved to best_model\n",
      "Epoch 8/10 - train_loss: 1.8101  val_loss: 2.0663  A_acc: 80.00%  B_acc: 63.33%\n",
      "Model saved to best_model\n",
      "Model saved to best_model\n",
      "Epoch 9/10 - train_loss: 1.8205  val_loss: 2.0638  A_acc: 80.00%  B_acc: 63.33%\n",
      "Model saved to best_model\n",
      "Model saved to best_model\n",
      "Epoch 10/10 - train_loss: 1.8148  val_loss: 2.0619  A_acc: 80.00%  B_acc: 63.33%\n",
      "All backbone layers unfrozen\n",
      "Task A head unfrozen\n",
      "Task B head unfrozen\n",
      "Model saved to best_model\n",
      "Model saved to best_model\n",
      "Epoch 1/5 - train_loss: 1.8233  val_loss: 2.0592  A_acc: 80.00%  B_acc: 63.33%\n",
      "Model saved to best_model\n",
      "Model saved to best_model\n",
      "Epoch 2/5 - train_loss: 1.8164  val_loss: 2.0566  A_acc: 80.00%  B_acc: 63.33%\n",
      "Model saved to best_model\n",
      "Model saved to best_model\n",
      "Epoch 3/5 - train_loss: 1.8002  val_loss: 2.0547  A_acc: 80.00%  B_acc: 63.33%\n",
      "Model saved to best_model\n",
      "Model saved to best_model\n",
      "Epoch 4/5 - train_loss: 1.8263  val_loss: 2.0537  A_acc: 80.00%  B_acc: 63.33%\n",
      "Model saved to best_model\n",
      "Model saved to best_model\n",
      "Epoch 5/5 - train_loss: 1.8215  val_loss: 2.0526  A_acc: 80.00%  B_acc: 63.33%\n"
     ]
    },
    {
     "data": {
      "image/png": "[encoded data removed]",
      "text/plain": [
       "<Figure size 1000x500 with 1 Axes>"
      ]
     },
     "metadata": {},
     "output_type": "display_data"
    }
   ],
   "source": [
    "# Assuming that train_dataloarder and val_dataloader are defined\n",
    "\n",
    "# Losses\n",
    "lossA = nn.CrossEntropyLoss()\n",
    "lossB = nn.CrossEntropyLoss()\n",
    "\n",
    "# Phase 1: Epochs 1–10 (backbone frozen, train projection + both heads, lr: 1e-3)\n",
    "model.freeze_backbone()            # lock all Transformer layers\n",
    "model.unfreeze_projection()        #  unfreeze projection layer\n",
    "model.unfreeze_taskA_head()        #  unfreeze Task A head\n",
    "model.unfreeze_taskB_head()        #  unfreeze Task B head\n",
    "\n",
    "opt1 = optim.AdamW([\n",
    "    {'params': model.backbone.projection.parameters(), 'lr': 1e-3},\n",
    "    {'params': model.taskA_head.parameters(),          'lr': 1e-3},\n",
    "    {'params': model.taskB_head.parameters(),          'lr': 1e-3},\n",
    "])\n",
    "sched1 = StepLR(opt1, step_size=3, gamma=0.5)\n",
    "\n",
    "history1 = model.fit(\n",
    "    train_dataloader,\n",
    "    val_dataloader,\n",
    "    opt1,\n",
    "    lossA,\n",
    "    lossB,\n",
    "    epochs=10,\n",
    "    scheduler=sched1\n",
    ")\n",
    "\n",
    "# Phase 2: Epochs 11–20 (unfreeze top 2 Transformer layers, lr backbone=1e-5, heads+proj=1e-4)\n",
    "model.freeze_backbone()            # re‐freeze all backbone layers\n",
    "model.unfreeze_backbone(num=2)     # unfreeze just the last 2 backbone layers\n",
    "model.unfreeze_projection()        # projection unfrozen\n",
    "model.unfreeze_taskA_head()        # headA unfrozen\n",
    "model.unfreeze_taskB_head()        # headB unfrozen\n",
    "\n",
    "# collect trainable backbone params\n",
    "backbone_params = [p for p in model.backbone.model.parameters() if p.requires_grad]\n",
    "head_and_proj = (\n",
    "    list(model.backbone.projection.parameters()) +\n",
    "    list(model.taskA_head.parameters()) +\n",
    "    list(model.taskB_head.parameters())\n",
    ")\n",
    "\n",
    "opt2 = optim.AdamW([\n",
    "    {'params': backbone_params, 'lr': 1e-5},\n",
    "    {'params': head_and_proj,    'lr': 1e-4},\n",
    "])\n",
    "sched2 = StepLR(opt2, step_size=3, gamma=0.5)\n",
    "\n",
    "history2 = model.fit(\n",
    "    train_dataloader,\n",
    "    val_dataloader,\n",
    "    opt2,\n",
    "    lossA,\n",
    "    lossB,\n",
    "    epochs=10,\n",
    "    scheduler=sched2\n",
    ")\n",
    "\n",
    "# hase 3: Epochs 21-25 (gradual unfreeze:fully unfreeze and fine‐tune with lower LRs)\n",
    "model.unfreeze_backbone()          # all layers now trainable\n",
    "model.unfreeze_projection()\n",
    "model.unfreeze_taskA_head()\n",
    "model.unfreeze_taskB_head()\n",
    "\n",
    "all_backbone = list(model.backbone.model.parameters())\n",
    "all_proj_and_heads = (\n",
    "    list(model.backbone.projection.parameters()) +\n",
    "    list(model.taskA_head.parameters()) +\n",
    "    list(model.taskB_head.parameters())\n",
    ")\n",
    "\n",
    "opt3 = optim.AdamW([\n",
    "    {'params': all_backbone,       'lr': 1e-6},\n",
    "    {'params': all_proj_and_heads, 'lr': 1e-5},\n",
    "])\n",
    "sched3 = StepLR(opt3, step_size=3, gamma=0.5)\n",
    "\n",
    "history3 = model.fit(\n",
    "    train_dataloader,\n",
    "    val_dataloader,\n",
    "    opt3,\n",
    "    lossA,\n",
    "    lossB,\n",
    "    epochs=5,\n",
    "    scheduler=sched3\n",
    ")\n",
    "# stitch together the losses from each phase\n",
    "train_losses = history1['train_loss'] + history2['train_loss'] + history3['train_loss']\n",
    "val_losses   = history1['val_loss']   + history2['val_loss']   + history3['val_loss']\n",
    "\n",
    "total_epochs = len(train_losses)\n",
    "epochs = list(range(1, total_epochs + 1))\n",
    "\n",
    "# compute phase boundaries\n",
    "p1_end = len(history1['train_loss'])\n",
    "p2_end = p1_end + len(history2['train_loss'])\n",
    "\n",
    "plt.figure(figsize=(10, 5))\n",
    "plt.plot(epochs, train_losses, label='Train Loss')\n",
    "plt.plot(epochs, val_losses,   label='Val Loss')\n",
    "\n",
    "#draw and label the phase splits\n",
    "for idx, bound in enumerate([p1_end, p2_end], start=1):\n",
    "    plt.axvline(bound, linestyle='--')\n",
    "    plt.text(bound + 0.2, max(train_losses), f'Phase {idx+1} start', rotation=90, va='top')\n",
    "\n",
    "plt.title('Combined Loss Curve Across All Phases')\n",
    "plt.xlabel('Epoch')\n",
    "plt.ylabel('Loss')\n",
    "plt.legend()\n",
    "plt.tight_layout()\n",
    "plt.show()"
   ]
  },
  {
   "cell_type": "markdown",
   "id": "0ce7a03f",
   "metadata": {},
   "source": [
    "## Evaluation"
   ]
  },
  {
   "cell_type": "code",
   "execution_count": null,
   "id": "3970ed18",
   "metadata": {},
   "outputs": [
    {
     "name": "stdout",
     "output_type": "stream",
     "text": [
      "Model loaded from models/backbone\n",
      "Model loaded from best_model\n"
     ]
    },
    {
     "name": "stderr",
     "output_type": "stream",
     "text": [
      "/Users/manan/Desktop/Leetcode/Fetch Assesment/src/embedding_model.py:78: FutureWarning: You are using `torch.load` with `weights_only=False` (the current default value), which uses the default pickle module implicitly. It is possible to construct malicious pickle data which will execute arbitrary code during unpickling (See https://github.com/pytorch/pytorch/blob/main/SECURITY.md#untrusted-models for more details). In a future release, the default value for `weights_only` will be flipped to `True`. This limits the functions that could be executed during unpickling. Arbitrary objects will no longer be allowed to be loaded via this mode unless they are explicitly allowlisted by the user via `torch.serialization.add_safe_globals`. We recommend you start setting `weights_only=True` for any use case where you don't have full control of the loaded file. Please open an issue on GitHub for any issues related to this experimental feature.\n",
      "  self.projection.load_state_dict(torch.load(f\"{path}/projection.pth\", map_location=self.device))\n",
      "/Users/manan/Desktop/Leetcode/Fetch Assesment/src/mtl.py:134: FutureWarning: You are using `torch.load` with `weights_only=False` (the current default value), which uses the default pickle module implicitly. It is possible to construct malicious pickle data which will execute arbitrary code during unpickling (See https://github.com/pytorch/pytorch/blob/main/SECURITY.md#untrusted-models for more details). In a future release, the default value for `weights_only` will be flipped to `True`. This limits the functions that could be executed during unpickling. Arbitrary objects will no longer be allowed to be loaded via this mode unless they are explicitly allowlisted by the user via `torch.serialization.add_safe_globals`. We recommend you start setting `weights_only=True` for any use case where you don't have full control of the loaded file. Please open an issue on GitHub for any issues related to this experimental feature.\n",
      "  self.taskA_head.load_state_dict(torch.load(f\"{path}/taskA_head.pth\", map_location=self.device))\n",
      "/Users/manan/Desktop/Leetcode/Fetch Assesment/src/mtl.py:135: FutureWarning: You are using `torch.load` with `weights_only=False` (the current default value), which uses the default pickle module implicitly. It is possible to construct malicious pickle data which will execute arbitrary code during unpickling (See https://github.com/pytorch/pytorch/blob/main/SECURITY.md#untrusted-models for more details). In a future release, the default value for `weights_only` will be flipped to `True`. This limits the functions that could be executed during unpickling. Arbitrary objects will no longer be allowed to be loaded via this mode unless they are explicitly allowlisted by the user via `torch.serialization.add_safe_globals`. We recommend you start setting `weights_only=True` for any use case where you don't have full control of the loaded file. Please open an issue on GitHub for any issues related to this experimental feature.\n",
      "  self.taskB_head.load_state_dict(torch.load(f\"{path}/taskB_head.pth\", map_location=self.device))\n"
     ]
    },
    {
     "data": {
      "text/plain": [
       "MultiTaskModel(\n",
       "  (taskA_head): Sequential(\n",
       "    (0): Linear(in_features=256, out_features=128, bias=True)\n",
       "    (1): ReLU()\n",
       "    (2): Dropout(p=0.2, inplace=False)\n",
       "    (3): Linear(in_features=128, out_features=32, bias=True)\n",
       "    (4): ReLU()\n",
       "    (5): Dropout(p=0.2, inplace=False)\n",
       "    (6): Linear(in_features=32, out_features=4, bias=True)\n",
       "  )\n",
       "  (taskB_head): Sequential(\n",
       "    (0): Linear(in_features=256, out_features=128, bias=True)\n",
       "    (1): ReLU()\n",
       "    (2): Dropout(p=0.2, inplace=False)\n",
       "    (3): Linear(in_features=128, out_features=32, bias=True)\n",
       "    (4): ReLU()\n",
       "    (5): Dropout(p=0.2, inplace=False)\n",
       "    (6): Linear(in_features=32, out_features=3, bias=True)\n",
       "  )\n",
       ")"
      ]
     },
     "execution_count": 23,
     "metadata": {},
     "output_type": "execute_result"
    }
   ],
   "source": [
    "# loading the best trained model\n",
    "model = MultiTaskModel(backbone_pth='models/backbone')\n",
    "model.load('best_model')"
   ]
  },
  {
   "cell_type": "code",
   "execution_count": 24,
   "id": "c68f98f1",
   "metadata": {},
   "outputs": [
    {
     "name": "stdout",
     "output_type": "stream",
     "text": [
      "Final Validation Accuracy: A: 0.8000, B: 0.6333\n",
      "Final Validation Recall: A: 1.0000, B: 0.6000\n",
      "Final Validation Precision: A: 1.0000, B: 0.8571\n"
     ]
    }
   ],
   "source": [
    "# FINAL METRICS\n",
    "f_accA, f_accB, f_recallA, f_recallB, f_precisionA, f_precisionB = model.metrics(val_dataloader)\n",
    "print(f\"Final Validation Accuracy: A: {f_accA:.4f}, B: {f_accB:.4f}\")\n",
    "print(f\"Final Validation Recall: A: {f_recallA:.4f}, B: {f_recallB:.4f}\")\n",
    "print(f\"Final Validation Precision: A: {f_precisionA:.4f}, B: {f_precisionB:.4f}\")"
   ]
  },
  {
   "cell_type": "markdown",
   "id": "442eb142",
   "metadata": {},
   "source": [
    "## Qualitative Analysis"
   ]
  },
  {
   "cell_type": "code",
   "execution_count": 25,
   "id": "61fe53c4",
   "metadata": {},
   "outputs": [
    {
     "name": "stdout",
     "output_type": "stream",
     "text": [
      "Predicted Task A: Sports, Task B: Positive\n",
      "Predicted Task A: Politics, Task B: Negative\n"
     ]
    }
   ],
   "source": [
    "mappingA = {0: \"Politics\", 1: \"Sports\", 2: \"Technology\", 3: \"Entertainment\"}\n",
    "mappingB = {0: \"Positive\", 1: \"Neutral\", 2: \"Negative\"}\n",
    "\n",
    "sentence = \"Baseball player hits an amazing home run!\"\n",
    "predA, predB = model.predict(sentence)\n",
    "print(f\"Predicted Task A: {mappingA[predA.to('cpu').item()]}, Task B: {mappingB[predB.to('cpu').item()]}\")\n",
    "\n",
    "sentence = \"Senator faces criticism over recent tax policy changes.\"\n",
    "predA, predB = model.predict(sentence)\n",
    "print(f\"Predicted Task A: {mappingA[predA.to('cpu').item()]}, Task B: {mappingB[predB.to('cpu').item()]}\")"
   ]
  },
  {
   "cell_type": "markdown",
   "id": "db57604e",
   "metadata": {},
   "source": [
    "## Alternate version - Training All Parameters together"
   ]
  },
  {
   "cell_type": "code",
   "execution_count": null,
   "id": "b8486cc9",
   "metadata": {},
   "outputs": [],
   "source": [
    "# UNCOMMENT THIS BLOCK TO TRAIN THE MODEL USING ALTERNATE STRATEGY\n",
    "\n",
    "# # 1) Make sure everything is unfrozen so gradients are computed\n",
    "# model.unfreeze_backbone()\n",
    "# model.unfreeze_projection()\n",
    "# model.unfreeze_taskA_head()\n",
    "# model.unfreeze_taskB_head()\n",
    "\n",
    "# # 2) Losses\n",
    "# class_lossA = nn.CrossEntropyLoss()\n",
    "# sentiment_lossB = nn.CrossEntropyLoss()\n",
    "\n",
    "# # 3) Optimizer with parameter groups\n",
    "# model_optimizer = optim.AdamW([\n",
    "#     {'params': model.backbone.model.parameters(),     'lr': 1e-5}, # slower backbone LR to ensure backbone is not overfitted\n",
    "#     {'params': model.backbone.projection.parameters(), 'lr': 1e-4},\n",
    "#     {'params': model.taskA_head.parameters(),          'lr': 1e-4},\n",
    "#     {'params': model.taskB_head.parameters(),          'lr': 1e-4},\n",
    "# ])\n",
    "\n",
    "# # 4) Scheduler\n",
    "# scheduler = StepLR(model_optimizer, step_size=2, gamma=0.5)\n",
    "\n",
    "# # 5) Train/val loop via your fit helper\n",
    "# history = model.fit(train_loader=train_dataloader,\n",
    "#                     val_loader=val_dataloader,\n",
    "#                     optimizer=model_optimizer,\n",
    "#                     lossA=class_lossA,\n",
    "#                     lossB=sentiment_lossB,\n",
    "#                     epochs=20,\n",
    "#                     scheduler=scheduler\n",
    "#                     )\n",
    "\n",
    "# # 6) Plotting\n",
    "# plt.plot(history['train_loss'], label='Train Loss')\n",
    "# plt.plot(history['val_loss'], label='Validation Loss')\n",
    "# plt.title('Losses')\n",
    "# plt.xlabel('Epochs')\n",
    "# plt.ylabel('Loss')\n",
    "# plt.legend()\n",
    "# plt.show()"
   ]
  }
 ],
 "metadata": {
  "kernelspec": {
   "display_name": "env",
   "language": "python",
   "name": "python3"
  },
  "language_info": {
   "codemirror_mode": {
    "name": "ipython",
    "version": 3
   },
   "file_extension": ".py",
   "mimetype": "text/x-python",
   "name": "python",
   "nbconvert_exporter": "python",
   "pygments_lexer": "ipython3",
   "version": "3.8.15"
  }
 },
 "nbformat": 4,
 "nbformat_minor": 5
}
